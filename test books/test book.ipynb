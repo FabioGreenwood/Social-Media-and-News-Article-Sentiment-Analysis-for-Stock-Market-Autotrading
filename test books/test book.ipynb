{
 "cells": [
  {
   "attachments": {},
   "cell_type": "markdown",
   "metadata": {},
   "source": [
    "Checking the different available free tweet data\n",
    "\n",
    "It's assumed that any finincial data I want will be available\n",
    "\n",
    "I need to check for the following factors:\n",
    "\n",
    "test 1:\n",
    " - number of tweets\n",
    " - quality of tweets\n",
    " \n",
    "test 2:\n",
    " - number of high volume unique users\n",
    " - quality of high vol users\n",
    "\n",
    "test 3:\n",
    " - responce of tweets to sentiment detection tech\n",
    " - responce and listing of tweets to niche sentiment detection tech\n",
    " \n"
   ]
  },
  {
   "cell_type": "code",
   "execution_count": 4,
   "metadata": {},
   "outputs": [],
   "source": [
    "import math\n",
    "import numpy as np\n",
    "import pandas as pd\n",
    "import matplotlib.pyplot as plt\n",
    "from datetime import datetime\n",
    "#Alt = pd.read_csv(\"twitter data\\Stock Market Tweet  Sentiment Analysis lexicon\\tweets_labelled_09042020_16072020.csv\")\n",
    "TCT = pd.read_csv(\"C:\\\\Users\\\\Fabio\\\\OneDrive\\\\Documents\\\\Studies\\\\Final Project\\\\Social-Media-and-News-Article-Sentiment-Analysis-for-Stock-Market-Autotrading\\\\data\\\\twitter data\\\\Tweets about the Top Companies from 2015 to 2020\\\\Company_Tweet.csv\\Company_Tweet.csv\", index_col=\"tweet_id\")\n",
    "TT  = pd.read_csv(\"C:\\\\Users\\\\Fabio\\\\OneDrive\\\\Documents\\\\Studies\\\\Final Project\\\\Social-Media-and-News-Article-Sentiment-Analysis-for-Stock-Market-Autotrading\\\\data\\\\twitter data\\\\Tweets about the Top Companies from 2015 to 2020\\\\Tweet.csv\\Tweet.csv\", index_col=\"tweet_id\")"
   ]
  },
  {
   "cell_type": "code",
   "execution_count": 5,
   "metadata": {},
   "outputs": [
    {
     "name": "stdout",
     "output_type": "stream",
     "text": [
      "------------------------------------------------------------------------------------------\n",
      "<class 'pandas.core.frame.DataFrame'>\n",
      "Index: 4336445 entries, 550803612197457920 to 1212160015332728833\n",
      "Data columns (total 1 columns):\n",
      " #   Column         Dtype \n",
      "---  ------         ----- \n",
      " 0   ticker_symbol  object\n",
      "dtypes: object(1)\n",
      "memory usage: 66.2+ MB\n",
      "None\n",
      "------------------------------------------------------------------------------------------\n",
      "<class 'pandas.core.frame.DataFrame'>\n",
      "Index: 3717964 entries, 550441509175443456 to 1212160477159206912\n",
      "Data columns (total 6 columns):\n",
      " #   Column       Dtype \n",
      "---  ------       ----- \n",
      " 0   writer       object\n",
      " 1   post_date    int64 \n",
      " 2   body         object\n",
      " 3   comment_num  int64 \n",
      " 4   retweet_num  int64 \n",
      " 5   like_num     int64 \n",
      "dtypes: int64(4), object(2)\n",
      "memory usage: 198.6+ MB\n",
      "None\n"
     ]
    }
   ],
   "source": [
    "print(\"------------------------------------------------------------------------------------------\")\n",
    "print(TCT.info())\n",
    "print(\"------------------------------------------------------------------------------------------\")\n",
    "print(TT.info())"
   ]
  },
  {
   "cell_type": "code",
   "execution_count": 6,
   "metadata": {},
   "outputs": [
    {
     "name": "stdout",
     "output_type": "stream",
     "text": [
      "4336445\n",
      "3717964\n"
     ]
    }
   ],
   "source": [
    "print(len(TCT))\n",
    "print( len(TT))"
   ]
  },
  {
   "cell_type": "code",
   "execution_count": 7,
   "metadata": {},
   "outputs": [
    {
     "name": "stdout",
     "output_type": "stream",
     "text": [
      "                   ticker_symbol\n",
      "tweet_id                        \n",
      "550803612197457920          AAPL\n",
      "550803610825928706          AAPL\n",
      "550803225113157632          AAPL\n",
      "550802957370159104          AAPL\n",
      "550802855129382912          AAPL\n",
      "------------------------------------------------------------------------------------------\n",
      "                             writer   post_date   \n",
      "tweet_id                                          \n",
      "550441509175443456  VisualStockRSRC  1420070457  \\\n",
      "550441672312512512      KeralaGuy77  1420070496   \n",
      "550441732014223360      DozenStocks  1420070510   \n",
      "550442977802207232     ShowDreamCar  1420070807   \n",
      "550443807834402816     i_Know_First  1420071005   \n",
      "\n",
      "                                                                 body   \n",
      "tweet_id                                                                \n",
      "550441509175443456  lx21 made $10,008  on $AAPL -Check it out! htt...  \\\n",
      "550441672312512512  Insanity of today weirdo massive selling. $aap...   \n",
      "550441732014223360  S&P100 #Stocks Performance $HD $LOW $SBUX $TGT...   \n",
      "550442977802207232  $GM $TSLA: Volkswagen Pushes 2014 Record Recal...   \n",
      "550443807834402816  Swing Trading: Up To 8.91% Return In 14 Days h...   \n",
      "\n",
      "                    comment_num  retweet_num  like_num  \n",
      "tweet_id                                                \n",
      "550441509175443456            0            0         1  \n",
      "550441672312512512            0            0         0  \n",
      "550441732014223360            0            0         0  \n",
      "550442977802207232            0            0         1  \n",
      "550443807834402816            0            0         1  \n"
     ]
    }
   ],
   "source": [
    "print(TCT.head())\n",
    "print(\"------------------------------------------------------------------------------------------\")\n",
    "print(TT.head())"
   ]
  },
  {
   "cell_type": "code",
   "execution_count": 8,
   "metadata": {},
   "outputs": [
    {
     "data": {
      "text/plain": [
       "(array([3.690768e+06, 1.710300e+04, 4.890000e+03, 2.009000e+03,\n",
       "        9.800000e+02, 1.696000e+03]),\n",
       " array([  0.,  50., 100., 150., 200., 250., 500.]),\n",
       " <BarContainer object of 6 artists>)"
      ]
     },
     "execution_count": 8,
     "metadata": {},
     "output_type": "execute_result"
    },
    {
     "data": {
      "image/png": "[encoded data removed]",
      "text/plain": [
       "<Figure size 640x480 with 1 Axes>"
      ]
     },
     "metadata": {},
     "output_type": "display_data"
    }
   ],
   "source": [
    "bins = [  0. ,  99.9, 199.8, 299.7, 399.6, 499.5, 599.4, 699.3, 799.2, 899.1, 999. ]\n",
    "bins = list(range(0,300,50))\n",
    "bins = bins + [500]\n",
    "plt.hist(TT[\"like_num\"], bins=bins)"
   ]
  },
  {
   "cell_type": "code",
   "execution_count": 9,
   "metadata": {},
   "outputs": [
    {
     "name": "stdout",
     "output_type": "stream",
     "text": [
      "like counts\n"
     ]
    },
    {
     "data": {
      "text/plain": [
       "like_num\n",
       "(-0.001, 50.0]    3691472\n",
       "(50.0, 100.0]       16548\n",
       "(100.0, 150.0]       4804\n",
       "(150.0, 200.0]       1975\n",
       "(250.0, 500.0]       1674\n",
       "(200.0, 250.0]        973\n",
       "Name: count, dtype: int64"
      ]
     },
     "execution_count": 9,
     "metadata": {},
     "output_type": "execute_result"
    }
   ],
   "source": [
    "print(\"like counts\")\n",
    "TT[\"like_num\"].value_counts(bins=bins)"
   ]
  },
  {
   "attachments": {},
   "cell_type": "markdown",
   "metadata": {},
   "source": [
    "DONT USE THIS CODE, USE PIVOT TABLES"
   ]
  },
  {
   "attachments": {},
   "cell_type": "markdown",
   "metadata": {},
   "source": [
    "What are the most common companies?\n"
   ]
  },
  {
   "cell_type": "code",
   "execution_count": 12,
   "metadata": {},
   "outputs": [
    {
     "name": "stdout",
     "output_type": "stream",
     "text": [
      "Value: AAPL, Frequency: 1425013\n",
      "Value: TSLA, Frequency: 1096868\n",
      "Value: AMZN, Frequency: 718715\n",
      "Value: GOOG, Frequency: 392569\n",
      "Value: MSFT, Frequency: 375711\n",
      "Value: GOOGL, Frequency: 327569\n",
      "hello\n"
     ]
    }
   ],
   "source": [
    "# Count the frequency of each value in the column\n",
    "value_counts = TCT[\"ticker_symbol\"].value_counts()\n",
    "\n",
    "# Get the top 100 repeated values and their frequencies\n",
    "top_100 = value_counts.head(100)\n",
    "\n",
    "# Print the top 100 values and their frequencies\n",
    "for value, frequency in top_100.items():\n",
    "    print(f'Value: {value}, Frequency: {frequency}')\n",
    "print(\"hello\")"
   ]
  },
  {
   "cell_type": "code",
   "execution_count": 10,
   "metadata": {},
   "outputs": [
    {
     "ename": "ValueError",
     "evalue": "Cannot subset columns with a tuple with more than one element. Use a list instead.",
     "output_type": "error",
     "traceback": [
      "\u001b[1;31m---------------------------------------------------------------------------\u001b[0m",
      "\u001b[1;31mValueError\u001b[0m                                Traceback (most recent call last)",
      "Cell \u001b[1;32mIn[10], line 1\u001b[0m\n\u001b[1;32m----> 1\u001b[0m TT\u001b[39m.\u001b[39;49mgroupby(\u001b[39m\"\u001b[39;49m\u001b[39mwriter\u001b[39;49m\u001b[39m\"\u001b[39;49m)[\u001b[39m\"\u001b[39;49m\u001b[39mcomment_num\u001b[39;49m\u001b[39m\"\u001b[39;49m, \u001b[39m\"\u001b[39;49m\u001b[39mretweet_num\u001b[39;49m\u001b[39m\"\u001b[39;49m, \u001b[39m\"\u001b[39;49m\u001b[39mlike_num\u001b[39;49m\u001b[39m\"\u001b[39;49m]\u001b[39m.\u001b[39mmean()\n",
      "File \u001b[1;32mc:\\Users\\Fabio\\AppData\\Local\\Programs\\Python\\Python311\\Lib\\site-packages\\pandas\\core\\groupby\\generic.py:1767\u001b[0m, in \u001b[0;36mDataFrameGroupBy.__getitem__\u001b[1;34m(self, key)\u001b[0m\n\u001b[0;32m   1763\u001b[0m \u001b[39m# per GH 23566\u001b[39;00m\n\u001b[0;32m   1764\u001b[0m \u001b[39mif\u001b[39;00m \u001b[39misinstance\u001b[39m(key, \u001b[39mtuple\u001b[39m) \u001b[39mand\u001b[39;00m \u001b[39mlen\u001b[39m(key) \u001b[39m>\u001b[39m \u001b[39m1\u001b[39m:\n\u001b[0;32m   1765\u001b[0m     \u001b[39m# if len == 1, then it becomes a SeriesGroupBy and this is actually\u001b[39;00m\n\u001b[0;32m   1766\u001b[0m     \u001b[39m# valid syntax, so don't raise\u001b[39;00m\n\u001b[1;32m-> 1767\u001b[0m     \u001b[39mraise\u001b[39;00m \u001b[39mValueError\u001b[39;00m(\n\u001b[0;32m   1768\u001b[0m         \u001b[39m\"\u001b[39m\u001b[39mCannot subset columns with a tuple with more than one element. \u001b[39m\u001b[39m\"\u001b[39m\n\u001b[0;32m   1769\u001b[0m         \u001b[39m\"\u001b[39m\u001b[39mUse a list instead.\u001b[39m\u001b[39m\"\u001b[39m\n\u001b[0;32m   1770\u001b[0m     )\n\u001b[0;32m   1771\u001b[0m \u001b[39mreturn\u001b[39;00m \u001b[39msuper\u001b[39m()\u001b[39m.\u001b[39m\u001b[39m__getitem__\u001b[39m(key)\n",
      "\u001b[1;31mValueError\u001b[0m: Cannot subset columns with a tuple with more than one element. Use a list instead."
     ]
    }
   ],
   "source": [
    "TT.groupby(\"writer\")[\"comment_num\", \"retweet_num\", \"like_num\"].mean()"
   ]
  },
  {
   "cell_type": "code",
   "execution_count": null,
   "metadata": {},
   "outputs": [
    {
     "name": "stderr",
     "output_type": "stream",
     "text": [
      "C:\\Users\\Fabio\\AppData\\Local\\Temp\\ipykernel_16756\\1481524224.py:1: FutureWarning: The default value of numeric_only in DataFrameGroupBy.sum is deprecated. In a future version, numeric_only will default to False. Either specify numeric_only or select only columns which should be valid for the function.\n",
      "  TT.groupby(\"post_date\").sum()\n"
     ]
    },
    {
     "data": {
      "text/html": [
       "<div>\n",
       "<style scoped>\n",
       "    .dataframe tbody tr th:only-of-type {\n",
       "        vertical-align: middle;\n",
       "    }\n",
       "\n",
       "    .dataframe tbody tr th {\n",
       "        vertical-align: top;\n",
       "    }\n",
       "\n",
       "    .dataframe thead th {\n",
       "        text-align: right;\n",
       "    }\n",
       "</style>\n",
       "<table border=\"1\" class=\"dataframe\">\n",
       "  <thead>\n",
       "    <tr style=\"text-align: right;\">\n",
       "      <th></th>\n",
       "      <th>comment_num</th>\n",
       "      <th>retweet_num</th>\n",
       "      <th>like_num</th>\n",
       "    </tr>\n",
       "    <tr>\n",
       "      <th>post_date</th>\n",
       "      <th></th>\n",
       "      <th></th>\n",
       "      <th></th>\n",
       "    </tr>\n",
       "  </thead>\n",
       "  <tbody>\n",
       "    <tr>\n",
       "      <th>1420070457</th>\n",
       "      <td>0</td>\n",
       "      <td>0</td>\n",
       "      <td>1</td>\n",
       "    </tr>\n",
       "    <tr>\n",
       "      <th>1420070496</th>\n",
       "      <td>0</td>\n",
       "      <td>0</td>\n",
       "      <td>0</td>\n",
       "    </tr>\n",
       "    <tr>\n",
       "      <th>1420070510</th>\n",
       "      <td>0</td>\n",
       "      <td>0</td>\n",
       "      <td>0</td>\n",
       "    </tr>\n",
       "    <tr>\n",
       "      <th>1420070807</th>\n",
       "      <td>0</td>\n",
       "      <td>0</td>\n",
       "      <td>1</td>\n",
       "    </tr>\n",
       "    <tr>\n",
       "      <th>1420071005</th>\n",
       "      <td>0</td>\n",
       "      <td>0</td>\n",
       "      <td>3</td>\n",
       "    </tr>\n",
       "    <tr>\n",
       "      <th>...</th>\n",
       "      <td>...</td>\n",
       "      <td>...</td>\n",
       "      <td>...</td>\n",
       "    </tr>\n",
       "    <tr>\n",
       "      <th>1577836383</th>\n",
       "      <td>1</td>\n",
       "      <td>0</td>\n",
       "      <td>6</td>\n",
       "    </tr>\n",
       "    <tr>\n",
       "      <th>1577836401</th>\n",
       "      <td>0</td>\n",
       "      <td>0</td>\n",
       "      <td>1</td>\n",
       "    </tr>\n",
       "    <tr>\n",
       "      <th>1577836443</th>\n",
       "      <td>0</td>\n",
       "      <td>0</td>\n",
       "      <td>5</td>\n",
       "    </tr>\n",
       "    <tr>\n",
       "      <th>1577836537</th>\n",
       "      <td>1</td>\n",
       "      <td>0</td>\n",
       "      <td>1</td>\n",
       "    </tr>\n",
       "    <tr>\n",
       "      <th>1577836553</th>\n",
       "      <td>0</td>\n",
       "      <td>0</td>\n",
       "      <td>0</td>\n",
       "    </tr>\n",
       "  </tbody>\n",
       "</table>\n",
       "<p>3421363 rows × 3 columns</p>\n",
       "</div>"
      ],
      "text/plain": [
       "            comment_num  retweet_num  like_num\n",
       "post_date                                     \n",
       "1420070457            0            0         1\n",
       "1420070496            0            0         0\n",
       "1420070510            0            0         0\n",
       "1420070807            0            0         1\n",
       "1420071005            0            0         3\n",
       "...                 ...          ...       ...\n",
       "1577836383            1            0         6\n",
       "1577836401            0            0         1\n",
       "1577836443            0            0         5\n",
       "1577836537            1            0         1\n",
       "1577836553            0            0         0\n",
       "\n",
       "[3421363 rows x 3 columns]"
      ]
     },
     "execution_count": 9,
     "metadata": {},
     "output_type": "execute_result"
    }
   ],
   "source": [
    "TT.groupby(\"post_date\").sum()"
   ]
  },
  {
   "cell_type": "code",
   "execution_count": null,
   "metadata": {},
   "outputs": [
    {
     "data": {
      "text/plain": [
       "time.struct_time(tm_year=2019, tm_mon=12, tm_mday=31, tm_hour=23, tm_min=55, tm_sec=53, tm_wday=1, tm_yday=365, tm_isdst=0)"
      ]
     },
     "execution_count": 10,
     "metadata": {},
     "output_type": "execute_result"
    }
   ],
   "source": [
    "import time\n",
    "from time import strftime, localtime\n",
    "time.gmtime(1577836553)"
   ]
  },
  {
   "cell_type": "code",
   "execution_count": null,
   "metadata": {},
   "outputs": [
    {
     "data": {
      "text/plain": [
       "'2012-09-13 08:22:50'"
      ]
     },
     "execution_count": 11,
     "metadata": {},
     "output_type": "execute_result"
    }
   ],
   "source": [
    "time.strftime('%Y-%m-%d %H:%M:%S', localtime(1347517370))"
   ]
  },
  {
   "cell_type": "code",
   "execution_count": null,
   "metadata": {},
   "outputs": [
    {
     "name": "stdout",
     "output_type": "stream",
     "text": [
      "1420070457\n",
      "1577836553\n"
     ]
    }
   ],
   "source": [
    "print(TT[\"post_date\"].min())\n",
    "print(TT[\"post_date\"].max())"
   ]
  },
  {
   "cell_type": "code",
   "execution_count": null,
   "metadata": {},
   "outputs": [
    {
     "ename": "KeyboardInterrupt",
     "evalue": "",
     "output_type": "error",
     "traceback": [
      "\u001b[1;31m---------------------------------------------------------------------------\u001b[0m",
      "\u001b[1;31mKeyboardInterrupt\u001b[0m                         Traceback (most recent call last)",
      "Cell \u001b[1;32mIn[13], line 6\u001b[0m\n\u001b[0;32m      4\u001b[0m sentiments \u001b[39m=\u001b[39m []\n\u001b[0;32m      5\u001b[0m \u001b[39mfor\u001b[39;00m sentence \u001b[39min\u001b[39;00m sentences:\n\u001b[1;32m----> 6\u001b[0m     vs \u001b[39m=\u001b[39m analyzer\u001b[39m.\u001b[39;49mpolarity_scores(sentence)\n\u001b[0;32m      7\u001b[0m     sentiments \u001b[39m=\u001b[39m sentiments \u001b[39m+\u001b[39m [vs]\n",
      "File \u001b[1;32mc:\\Users\\Fabio\\AppData\\Local\\Programs\\Python\\Python311\\Lib\\site-packages\\vaderSentiment\\vaderSentiment.py:232\u001b[0m, in \u001b[0;36mSentimentIntensityAnalyzer.polarity_scores\u001b[1;34m(self, text)\u001b[0m\n\u001b[0;32m    229\u001b[0m         emoji_dict[emoji] \u001b[39m=\u001b[39m description\n\u001b[0;32m    230\u001b[0m     \u001b[39mreturn\u001b[39;00m emoji_dict\n\u001b[1;32m--> 232\u001b[0m \u001b[39mdef\u001b[39;00m \u001b[39mpolarity_scores\u001b[39m(\u001b[39mself\u001b[39m, text):\n\u001b[0;32m    233\u001b[0m     \u001b[39m\"\"\"\u001b[39;00m\n\u001b[0;32m    234\u001b[0m \u001b[39m    Return a float for sentiment strength based on the input text.\u001b[39;00m\n\u001b[0;32m    235\u001b[0m \u001b[39m    Positive values are positive valence, negative value are negative\u001b[39;00m\n\u001b[0;32m    236\u001b[0m \u001b[39m    valence.\u001b[39;00m\n\u001b[0;32m    237\u001b[0m \u001b[39m    \"\"\"\u001b[39;00m\n\u001b[0;32m    238\u001b[0m     \u001b[39m# convert emojis to their textual descriptions\u001b[39;00m\n",
      "\u001b[1;31mKeyboardInterrupt\u001b[0m: "
     ]
    }
   ],
   "source": [
    "from vaderSentiment.vaderSentiment import SentimentIntensityAnalyzer\n",
    "sentences = TT[\"body\"]\n",
    "analyzer = SentimentIntensityAnalyzer()\n",
    "sentiments = []\n",
    "for sentence in sentences:\n",
    "    vs = analyzer.polarity_scores(sentence)\n",
    "    sentiments = sentiments + [vs]\n",
    "    "
   ]
  },
  {
   "attachments": {},
   "cell_type": "markdown",
   "metadata": {},
   "source": [
    "Downloading the Sigma Model"
   ]
  },
  {
   "cell_type": "code",
   "execution_count": 34,
   "metadata": {},
   "outputs": [],
   "source": [
    "import requests\n",
    "\n",
    "location = \"C:\\\\Users\\\\Fabio\\\\OneDrive\\\\Documents\\\\Studies\\\\Final Project\\\\Social-Media-and-News-Article-Sentiment-Analysis-for-Stock-Market-Autotrading\\\\data\\\\financial data\\\\tiingo\\\\\"\n",
    "\n",
    "headers = {\n",
    "    'Content-Type': 'application/json'\n",
    "}\n",
    "requestResponse = requests.get(\"https://api.tiingo.com/iex/GOOGL/prices?startDate=2017-01-01&endDate=2021-01-01&resampleFreq=5min&columns=open,high,low,close,volume&token=02dfb3bcafb0c3809fd30f191e071ea2902fc339\", headers=headers)\n",
    "df = pd.DataFrame(requestResponse.json())\n",
    "#df.to_csv(location + \"GOOGL.csv\")\n",
    "#print(requestResponse.json())"
   ]
  },
  {
   "cell_type": "code",
   "execution_count": 37,
   "metadata": {},
   "outputs": [
    {
     "data": {
      "text/plain": [
       "<Response [200]>"
      ]
     },
     "execution_count": 37,
     "metadata": {},
     "output_type": "execute_result"
    }
   ],
   "source": [
    "requestResponse"
   ]
  },
  {
   "cell_type": "code",
   "execution_count": 25,
   "metadata": {},
   "outputs": [
    {
     "data": {
      "text/html": [
       "<div>\n",
       "<style scoped>\n",
       "    .dataframe tbody tr th:only-of-type {\n",
       "        vertical-align: middle;\n",
       "    }\n",
       "\n",
       "    .dataframe tbody tr th {\n",
       "        vertical-align: top;\n",
       "    }\n",
       "\n",
       "    .dataframe thead th {\n",
       "        text-align: right;\n",
       "    }\n",
       "</style>\n",
       "<table border=\"1\" class=\"dataframe\">\n",
       "  <thead>\n",
       "    <tr style=\"text-align: right;\">\n",
       "      <th></th>\n",
       "      <th>date</th>\n",
       "      <th>open</th>\n",
       "      <th>high</th>\n",
       "      <th>low</th>\n",
       "      <th>close</th>\n",
       "      <th>volume</th>\n",
       "    </tr>\n",
       "  </thead>\n",
       "  <tbody>\n",
       "    <tr>\n",
       "      <th>0</th>\n",
       "      <td>2019-01-02T14:30:00.000Z</td>\n",
       "      <td>154.740</td>\n",
       "      <td>155.520</td>\n",
       "      <td>154.580</td>\n",
       "      <td>154.760</td>\n",
       "      <td>16102.0</td>\n",
       "    </tr>\n",
       "    <tr>\n",
       "      <th>1</th>\n",
       "      <td>2019-01-02T14:35:00.000Z</td>\n",
       "      <td>154.800</td>\n",
       "      <td>155.000</td>\n",
       "      <td>154.310</td>\n",
       "      <td>154.645</td>\n",
       "      <td>19127.0</td>\n",
       "    </tr>\n",
       "    <tr>\n",
       "      <th>2</th>\n",
       "      <td>2019-01-02T14:40:00.000Z</td>\n",
       "      <td>154.670</td>\n",
       "      <td>154.940</td>\n",
       "      <td>154.250</td>\n",
       "      <td>154.940</td>\n",
       "      <td>16812.0</td>\n",
       "    </tr>\n",
       "    <tr>\n",
       "      <th>3</th>\n",
       "      <td>2019-01-02T14:45:00.000Z</td>\n",
       "      <td>154.990</td>\n",
       "      <td>155.200</td>\n",
       "      <td>154.620</td>\n",
       "      <td>154.795</td>\n",
       "      <td>19006.0</td>\n",
       "    </tr>\n",
       "    <tr>\n",
       "      <th>4</th>\n",
       "      <td>2019-01-02T14:50:00.000Z</td>\n",
       "      <td>154.795</td>\n",
       "      <td>155.115</td>\n",
       "      <td>154.690</td>\n",
       "      <td>155.090</td>\n",
       "      <td>12006.0</td>\n",
       "    </tr>\n",
       "    <tr>\n",
       "      <th>...</th>\n",
       "      <td>...</td>\n",
       "      <td>...</td>\n",
       "      <td>...</td>\n",
       "      <td>...</td>\n",
       "      <td>...</td>\n",
       "      <td>...</td>\n",
       "    </tr>\n",
       "    <tr>\n",
       "      <th>231</th>\n",
       "      <td>2019-01-04T20:35:00.000Z</td>\n",
       "      <td>147.480</td>\n",
       "      <td>147.615</td>\n",
       "      <td>147.155</td>\n",
       "      <td>147.255</td>\n",
       "      <td>13572.0</td>\n",
       "    </tr>\n",
       "    <tr>\n",
       "      <th>232</th>\n",
       "      <td>2019-01-04T20:40:00.000Z</td>\n",
       "      <td>147.260</td>\n",
       "      <td>147.930</td>\n",
       "      <td>147.160</td>\n",
       "      <td>147.800</td>\n",
       "      <td>55506.0</td>\n",
       "    </tr>\n",
       "    <tr>\n",
       "      <th>233</th>\n",
       "      <td>2019-01-04T20:45:00.000Z</td>\n",
       "      <td>147.800</td>\n",
       "      <td>147.970</td>\n",
       "      <td>147.650</td>\n",
       "      <td>147.730</td>\n",
       "      <td>21836.0</td>\n",
       "    </tr>\n",
       "    <tr>\n",
       "      <th>234</th>\n",
       "      <td>2019-01-04T20:50:00.000Z</td>\n",
       "      <td>147.725</td>\n",
       "      <td>147.790</td>\n",
       "      <td>147.670</td>\n",
       "      <td>147.685</td>\n",
       "      <td>3542.0</td>\n",
       "    </tr>\n",
       "    <tr>\n",
       "      <th>235</th>\n",
       "      <td>2019-01-04T20:55:00.000Z</td>\n",
       "      <td>147.710</td>\n",
       "      <td>148.290</td>\n",
       "      <td>147.685</td>\n",
       "      <td>148.285</td>\n",
       "      <td>36905.0</td>\n",
       "    </tr>\n",
       "  </tbody>\n",
       "</table>\n",
       "<p>236 rows × 6 columns</p>\n",
       "</div>"
      ],
      "text/plain": [
       "                         date     open     high      low    close   volume\n",
       "0    2019-01-02T14:30:00.000Z  154.740  155.520  154.580  154.760  16102.0\n",
       "1    2019-01-02T14:35:00.000Z  154.800  155.000  154.310  154.645  19127.0\n",
       "2    2019-01-02T14:40:00.000Z  154.670  154.940  154.250  154.940  16812.0\n",
       "3    2019-01-02T14:45:00.000Z  154.990  155.200  154.620  154.795  19006.0\n",
       "4    2019-01-02T14:50:00.000Z  154.795  155.115  154.690  155.090  12006.0\n",
       "..                        ...      ...      ...      ...      ...      ...\n",
       "231  2019-01-04T20:35:00.000Z  147.480  147.615  147.155  147.255  13572.0\n",
       "232  2019-01-04T20:40:00.000Z  147.260  147.930  147.160  147.800  55506.0\n",
       "233  2019-01-04T20:45:00.000Z  147.800  147.970  147.650  147.730  21836.0\n",
       "234  2019-01-04T20:50:00.000Z  147.725  147.790  147.670  147.685   3542.0\n",
       "235  2019-01-04T20:55:00.000Z  147.710  148.290  147.685  148.285  36905.0\n",
       "\n",
       "[236 rows x 6 columns]"
      ]
     },
     "execution_count": 25,
     "metadata": {},
     "output_type": "execute_result"
    }
   ],
   "source": [
    "df"
   ]
  }
 ],
 "metadata": {
  "kernelspec": {
   "display_name": "Python 3",
   "language": "python",
   "name": "python3"
  },
  "language_info": {
   "codemirror_mode": {
    "name": "ipython",
    "version": 3
   },
   "file_extension": ".py",
   "mimetype": "text/x-python",
   "name": "python",
   "nbconvert_exporter": "python",
   "pygments_lexer": "ipython3",
   "version": "3.11.4"
  },
  "orig_nbformat": 4
 },
 "nbformat": 4,
 "nbformat_minor": 2
}
