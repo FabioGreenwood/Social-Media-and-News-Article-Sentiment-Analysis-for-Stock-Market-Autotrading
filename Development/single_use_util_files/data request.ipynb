{
 "cells": [
  {
   "cell_type": "code",
   "execution_count": 1,
   "metadata": {},
   "outputs": [],
   "source": [
    "import requests\n",
    "import pandas as pd\n",
    "import datetime\n",
    "import requests\n",
    "from bs4 import BeautifulSoup\n",
    "import requests\n",
    "\n",
    "#parameters\n",
    "symbol = \"msft\"\n",
    "\n",
    "#set up request dates\n",
    "current_start   = datetime.datetime(2018, 6, 1)\n",
    "current_end     = current_start + datetime.timedelta(weeks=4*5)\n",
    "starts          = [current_start.strftime(\"%Y-%m-%d\")]\n",
    "ends            = [current_end.strftime(\"%Y-%m-%d\")]    \n",
    "while current_end < datetime.datetime.now():\n",
    "    current_start   = current_end\n",
    "    current_end     = current_start + datetime.timedelta(weeks=4*5)\n",
    "    starts          = starts + [current_start.strftime(\"%Y-%m-%d\")]\n",
    "    ends            = ends + [current_end.strftime(\"%Y-%m-%d\")]\n",
    "#ends[-0] = datetime.datetime.now()\n",
    "ends[-1] = datetime.datetime(2023, 5, 28).strftime(\"%Y-%m-%d\")\n",
    "\n",
    "#final prep\n",
    "location = \"C:\\\\Users\\\\Fabio\\\\OneDrive\\\\Documents\\\\Studies\\\\Final Project\\\\Social-Media-and-News-Article-Sentiment-Analysis-for-Stock-Market-Autotrading\\\\data\\\\financial data\\\\tiingo\\\\\"\n",
    "headers = {\n",
    "    'Content-Type': 'application/json'\n",
    "}\n",
    "http_format_string = \"https://api.tiingo.com/iex/{}/prices?startDate={}&endDate={}&resampleFreq=5min&columns=open,high,low,close,volume&token=02dfb3bcafb0c3809fd30f191e071ea2902fc339\"\n",
    "\n",
    "#request loop\n",
    "for start, end in zip(starts, ends):\n",
    "    req_str = http_format_string.format(symbol.upper(), start, end)\n",
    "    requestResponse = requests.get(req_str, headers=headers)\n",
    "    if start == starts[0]:\n",
    "        df = pd.DataFrame(requestResponse.json())\n",
    "    else:\n",
    "        df = pd.concat([df, pd.DataFrame(requestResponse.json())], axis=0)\n",
    "        df = df.drop_duplicates()\n",
    "\n",
    "df.to_csv(location + symbol + \".csv\")"
   ]
  }
 ],
 "metadata": {
  "kernelspec": {
   "display_name": "Python 3",
   "language": "python",
   "name": "python3"
  },
  "language_info": {
   "codemirror_mode": {
    "name": "ipython",
    "version": 3
   },
   "file_extension": ".py",
   "mimetype": "text/x-python",
   "name": "python",
   "nbconvert_exporter": "python",
   "pygments_lexer": "ipython3",
   "version": "3.11.4"
  },
  "orig_nbformat": 4
 },
 "nbformat": 4,
 "nbformat_minor": 2
}
